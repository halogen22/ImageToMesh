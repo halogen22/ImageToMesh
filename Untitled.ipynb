{
 "cells": [
  {
   "cell_type": "code",
   "execution_count": null,
   "id": "7bddf7a2-4f13-4b73-ab8d-64a0f31235a4",
   "metadata": {},
   "outputs": [],
   "source": []
  },
  {
   "cell_type": "code",
   "execution_count": 2,
   "id": "c0898f28-2ced-48d9-9e48-c48fd3209b24",
   "metadata": {},
   "outputs": [],
   "source": [
    "from PIL import Image\n",
    "import numpy as np\n",
    "\n",
    "im = np.array(Image.open('./misc/5.1.09.tiff'))"
   ]
  },
  {
   "cell_type": "code",
   "execution_count": null,
   "id": "6a9f0458-56c7-4491-9a8b-91594b9ff462",
   "metadata": {},
   "outputs": [],
   "source": []
  },
  {
   "cell_type": "code",
   "execution_count": null,
   "id": "2103d7e7-b51c-4a88-be80-8ac5a1235664",
   "metadata": {},
   "outputs": [],
   "source": [
    "import cv2\n",
    "import numpy as np\n",
    "from stl import mesh\n",
    "\n",
    "# 深さ画像を読み込む\n",
    "depth_img = cv2.imread('depth.png', cv2.IMREAD_ANYDEPTH)\n",
    "\n",
    "# 深度画像から点群を作成\n",
    "# (ここでは単純な例として、深度値をZ座標、画素位置をX,Y座標とする)\n",
    "points = np.zeros((depth_img.shape[0] * depth_img.shape[1], 3))\n",
    "for i in range(depth_img.shape[0]):\n",
    "    for j in range(depth_img.shape[1]):\n",
    "        points[i * depth_img.shape[1] + j] = [j, i, depth_img[i, j]]\n",
    "\n",
    "# 点群からメッシュを作成\n",
    "# (ここでは単純な例として、各点に三角形を割り当てる)\n",
    "# ... (三角形メッシュの作成処理)\n",
    "\n",
    "# メッシュデータをSTLファイルとして保存\n",
    "your_mesh = mesh.Mesh(np.zeros(your_point_data.shape[0], dtype=float))\n",
    "for i, face in enumerate(your_faces):\n",
    "    your_mesh.vectors[i] = your_point_data[face]\n",
    "your_mesh.save('my_mesh.stl')"
   ]
  }
 ],
 "metadata": {
  "kernelspec": {
   "display_name": "Python 3 (ipykernel)",
   "language": "python",
   "name": "python3"
  },
  "language_info": {
   "codemirror_mode": {
    "name": "ipython",
    "version": 3
   },
   "file_extension": ".py",
   "mimetype": "text/x-python",
   "name": "python",
   "nbconvert_exporter": "python",
   "pygments_lexer": "ipython3",
   "version": "3.10.16"
  }
 },
 "nbformat": 4,
 "nbformat_minor": 5
}
